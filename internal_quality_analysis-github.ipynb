{
 "cells": [
  {
   "cell_type": "markdown",
   "id": "dbbc8e922c94f071",
   "metadata": {},
   "source": [
    "# Analytics - Product Quality - GitHub\n",
    "\n",
    "#### Date: 2020/02\n",
    "\n",
    "#### SUMMARY:\n",
    "\n",
    "- This notebook represents the project quality analysis of the date exposed right above. \n",
    "\n",
    "### TEAM:\n",
    "\n",
    "##### Semester: YYYY/0X\n",
    "##### Professor: Hilmer Neri\n",
    "\n",
    "##### Members:\n",
    "\n",
    "- Member x\n",
    "- Member y\n"
   ]
  },
  {
   "cell_type": "markdown",
   "id": "cc56e56572a75249",
   "metadata": {
    "collapsed": false
   },
   "source": [
    "### LIBRARIES"
   ]
  },
  {
   "cell_type": "code",
   "execution_count": 2,
   "id": "a3bcddb987f2383e",
   "metadata": {
    "ExecuteTime": {
     "end_time": "2024-06-12T20:09:03.884001Z",
     "start_time": "2024-06-12T20:09:03.878379Z"
    },
    "collapsed": false
   },
   "outputs": [],
   "source": [
    "# Deal with data\n",
    "import pandas as pd\n",
    "import json\n",
    "from glob import glob\n",
    "import os\n",
    "\n",
    "# Deal with visualization\n",
    "import seaborn as sns\n",
    "import matplotlib.pyplot as plt\n",
    "\n",
    "# Deal with type hints\n",
    "from typing import List\n",
    "\n",
    "# Deal with time\n",
    "import datetime"
   ]
  },
  {
   "cell_type": "markdown",
   "id": "8022b886908c303c",
   "metadata": {},
   "source": [
    "### GRAPH SETTINGS"
   ]
  },
  {
   "cell_type": "code",
   "execution_count": null,
   "id": "3869c391e67f33d9",
   "metadata": {},
   "outputs": [],
   "source": [
    "%config InlineBackend.figure_format ='retina'\n",
    "sns.set(font_scale=1.5)\n",
    "sns.set_style('darkgrid',\n",
    "              {'xtick.bottom' : True,\n",
    "               'ytick.left': True,\n",
    "               'grid.linestyle':'--',\n",
    "               'font.monospace': ['Computer Modern Typewriter'],\n",
    "               'axes.edgecolor' : 'white'})"
   ]
  },
  {
   "cell_type": "markdown",
   "id": "8acf667d30c388a4",
   "metadata": {},
   "source": [
    "### DATAFRAME SETTINGS"
   ]
  },
  {
   "cell_type": "code",
   "execution_count": null,
   "id": "8abe491f7ee0858",
   "metadata": {},
   "outputs": [],
   "source": [
    "pd.set_option(\"display.max_rows\", None, \"display.max_columns\", None)"
   ]
  },
  {
   "cell_type": "markdown",
   "id": "3644ede13815812",
   "metadata": {},
   "source": [
    "#### Replace your repository names"
   ]
  },
  {
   "cell_type": "code",
   "execution_count": null,
   "id": "cecffc2350fa1d75",
   "metadata": {},
   "outputs": [],
   "source": [
    "# Add your repos here\n",
    "# Example: ['YourRepoName_1', 'YourRepoName_2']\n",
    "repos_project = ['Admin']"
   ]
  },
  {
   "cell_type": "markdown",
   "id": "e3f388eb3f29785b",
   "metadata": {},
   "source": [
    "#### Replace your build workflow .yml file name"
   ]
  },
  {
   "cell_type": "code",
   "execution_count": null,
   "id": "f7490ba63f779357",
   "metadata": {},
   "outputs": [],
   "source": [
    "# Set your build workflow .yml name\n",
    "# Example: build.yml -> build\n",
    "build_yml_name = \"code-analysis\""
   ]
  },
  {
   "cell_type": "markdown",
   "id": "5e57ceaaebce00b7",
   "metadata": {},
   "source": [
    "#### Filter dates - Workflow Runs"
   ]
  },
  {
   "cell_type": "code",
   "execution_count": null,
   "id": "c870e40563780575",
   "metadata": {},
   "outputs": [],
   "source": [
    "# Set the dates you want to filter the analysis of workflow runs\n",
    "# Example: start_date_workflow_runs = \"2024-09-01\"\n",
    "#          end_date_workflow_runs = \"2024-09-05\"\n",
    "start_date_workflow_runs = \"2024-08-01\" # to get all dates: \"1999-01-01\"\n",
    "end_date_workflow_runs = \"2024-09-21\"   # to get all dates: \"2199-01-01\""
   ]
  },
  {
   "cell_type": "markdown",
   "id": "674c49cf596611af",
   "metadata": {},
   "source": [
    "#### Filter dates - Team Throughput"
   ]
  },
  {
   "cell_type": "code",
   "execution_count": null,
   "id": "fe5af99d4df7ae45",
   "metadata": {},
   "outputs": [],
   "source": [
    "# Set the dates you want to filter the analysis of issues\n",
    "# Example: start_date_issues = \"2024-09-01\"\n",
    "#          end_date_issues = \"2024-09-05\"\n",
    "start_date_issues = \"2024-08-01\" # to get all dates: \"1999-01-01\"\n",
    "end_date_issues = \"2024-09-21\"   # to get all dates: \"2199-01-01\"\n",
    "### GitHub\n",
    "##### Path to the folder with all your jsons"
   ]
  },
  {
   "cell_type": "code",
   "execution_count": null,
   "id": "d9e295d8013f968f",
   "metadata": {},
   "outputs": [],
   "source": [
    "data_runs = glob('./analytics-raw-data/GitHub_API-Runs-fga-eps-mds-*.json')\n",
    "data_issues = glob('./analytics-raw-data/GitHub_API-Issues-fga-eps-mds-*.json')"
   ]
  },
  {
   "cell_type": "markdown",
   "id": "adf17a957dd9bddc",
   "metadata": {},
   "source": [
    "# Create Workflow Runs DataFrame"
   ]
  },
  {
   "cell_type": "markdown",
   "id": "ffa8cabeda8ab48c",
   "metadata": {
    "collapsed": false
   },
   "source": [
    "#### Unmarshall json"
   ]
  },
  {
   "cell_type": "code",
   "execution_count": null,
   "id": "26a5d6d115efe1a6",
   "metadata": {
    "collapsed": false
   },
   "outputs": [],
   "source": [
    "def unmarshall(json_path: str) -> dict:\n",
    "    with open(json_path) as json_file:\n",
    "        json_obj = json.load(json_file)\n",
    "    return json_obj"
   ]
  },
  {
   "cell_type": "markdown",
   "id": "7d100c7f5283260c",
   "metadata": {
    "collapsed": false
   },
   "source": [
    "#### Extract Workflow Runs Data"
   ]
  },
  {
   "cell_type": "code",
   "execution_count": null,
   "id": "528203040f19c888",
   "metadata": {},
   "outputs": [],
   "source": [
    "def get_workflow_data():\n",
    "    table_data = []\n",
    "    for json_path in data_runs:\n",
    "        dados = unmarshall(json_path)\n",
    "        for run in dados[\"workflow_runs\"]:\n",
    "            updated_at = datetime.datetime.strptime(run[\"updated_at\"], \"%Y-%m-%dT%H:%M:%SZ\")\n",
    "            created_at = datetime.datetime.strptime(run[\"created_at\"], \"%Y-%m-%dT%H:%M:%SZ\")\n",
    "            feedback_time = (updated_at - created_at).total_seconds()\n",
    "            \n",
    "            workflow_id = run[\"id\"]\n",
    "            conclusion = run[\"conclusion\"]\n",
    "            author = run[\"actor\"][\"login\"]\n",
    "            workflow_yml_name = run[\"path\"].split(\"/\")[-1][:-4]\n",
    "\n",
    "            repo = run[\"repository\"][\"name\"].split(\"-\")[-1]\n",
    "            \n",
    "            table_data.append({\n",
    "                \"Workflow_run ID\": workflow_id,\n",
    "                \"Conclusion\": conclusion,\n",
    "                \"Author\": author,\n",
    "                \"Created at\": created_at,\n",
    "                \"Updated at\": updated_at,\n",
    "                \"Feedback Time\": feedback_time,\n",
    "                \"Workflow .YML Name\": workflow_yml_name,\n",
    "                \"Repository Name\": repo\n",
    "            })\n",
    "\n",
    "    return table_data"
   ]
  },
  {
   "cell_type": "markdown",
   "id": "dc738375f4e43090",
   "metadata": {},
   "source": [
    "#### Generate Workflow Runs DataFrame"
   ]
  },
  {
   "cell_type": "code",
   "execution_count": null,
   "id": "606be758e428ea5c",
   "metadata": {},
   "outputs": [],
   "source": [
    "def generate_workflow_runs_df(data: List[dict]) -> pd.DataFrame:\n",
    "    df = pd.DataFrame(data)\n",
    "\n",
    "    return df"
   ]
  },
  {
   "cell_type": "code",
   "execution_count": null,
   "id": "89c55799ce5bbb86",
   "metadata": {},
   "outputs": [],
   "source": [
    "workflow_run_df = generate_workflow_runs_df(get_workflow_data())\n",
    "workflow_run_df.head()"
   ]
  },
  {
   "cell_type": "markdown",
   "id": "ffee159b6c1c21b6",
   "metadata": {},
   "source": [
    "### Create dataframe per repository"
   ]
  },
  {
   "cell_type": "code",
   "execution_count": null,
   "id": "e92009e696da0ea1",
   "metadata": {},
   "outputs": [],
   "source": [
    "repos_dataframes = []\n",
    "\n",
    "for repo in repos_project:\n",
    "    dataframe = workflow_run_df[workflow_run_df['Repository Name'] == repo]\n",
    "    repos_dataframes.append({'name': repo, 'df': dataframe})"
   ]
  },
  {
   "cell_type": "markdown",
   "id": "fb1b97ea7e8d02d",
   "metadata": {},
   "source": [
    "# Create Issues DataFrame"
   ]
  },
  {
   "cell_type": "markdown",
   "id": "8012c921ff5f4059",
   "metadata": {},
   "source": [
    "#### Extract Issues Data"
   ]
  },
  {
   "cell_type": "code",
   "execution_count": null,
   "id": "aee13450407045a1",
   "metadata": {},
   "outputs": [],
   "source": [
    "def get_issues_data():\n",
    "    for json_path in data_issues:\n",
    "        dados = unmarshall(json_path)\n",
    "        table_data = []\n",
    "        for run in dados:\n",
    "            created_at = run[\"created_at\"]\n",
    "            closed_at  = run[\"closed_at\"]\n",
    "            number = run[\"number\"]\n",
    "            title = run[\"title\"]\n",
    "            \n",
    "            table_data.append({\n",
    "                \"Created at\": created_at,\n",
    "                \"Closed at\": closed_at,\n",
    "                \"Issue Number\": number,\n",
    "                \"Issue Title\": title,\n",
    "            })\n",
    "\n",
    "    return table_data"
   ]
  },
  {
   "cell_type": "markdown",
   "id": "9060b5193b75cb88",
   "metadata": {},
   "source": [
    "#### Generate Issues DataFrame"
   ]
  },
  {
   "cell_type": "code",
   "execution_count": null,
   "id": "8efedefe1e474254",
   "metadata": {},
   "outputs": [],
   "source": [
    "def generate_issues_df(data: List[dict]) -> pd.DataFrame:\n",
    "    df = pd.DataFrame(data)\n",
    "\n",
    "    df['Created at'] = pd.to_datetime(df['Created at'], format='%Y-%m-%dT%H:%M:%SZ')\n",
    "\n",
    "    df['Closed at'] = pd.to_datetime(df['Closed at'], format='%Y-%m-%dT%H:%M:%SZ')\n",
    "    \n",
    "    return df"
   ]
  },
  {
   "cell_type": "code",
   "execution_count": null,
   "id": "d50e1d2ff5edf1f4",
   "metadata": {},
   "outputs": [],
   "source": [
    "issues_df = generate_issues_df(get_issues_data())\n",
    "issues_df.head()"
   ]
  },
  {
   "cell_type": "markdown",
   "id": "d245bc1eaad29f38",
   "metadata": {},
   "source": [
    "# Quality Aspect - Productivity"
   ]
  },
  {
   "cell_type": "markdown",
   "id": "8f5d8da432a3e307",
   "metadata": {},
   "source": [
    "## Factor - Testing Performance"
   ]
  },
  {
   "cell_type": "markdown",
   "id": "54b2530d40d03927",
   "metadata": {},
   "source": [
    "### CI Feedback Time"
   ]
  },
  {
   "cell_type": "code",
   "execution_count": null,
   "id": "36681140ebbef0b2",
   "metadata": {},
   "outputs": [],
   "source": [
    "def ci_feedback_time(df: pd.DataFrame):\n",
    "    feedback_times = []\n",
    "    authors_feedback_times = {}\n",
    "    ci_feedback_times = []\n",
    "\n",
    "    # Filter for builds workflow runs only\n",
    "    df_filtered = df[df[\"Workflow .YML Name\"] == build_yml_name].copy()\n",
    "\n",
    "    for run in df_filtered.index:\n",
    "        updated_at = df[\"Updated at\"][run]\n",
    "        created_at = df[\"Created at\"][run]\n",
    "        feedback_time = (updated_at - created_at).total_seconds()\n",
    "        feedback_times.append(feedback_time)\n",
    "\n",
    "    ci_feedback_time = sum(feedback_times) / len(feedback_times)\n",
    "    df_filtered.loc[:, \"Ci Feedback Time\"] = ci_feedback_time\n",
    "\n",
    "    return df_filtered"
   ]
  },
  {
   "cell_type": "markdown",
   "id": "5f9cc2d4dccaf8a2",
   "metadata": {},
   "source": [
    "### Extra: Count of Successes and Failures Workflows"
   ]
  },
  {
   "cell_type": "code",
   "execution_count": null,
   "id": "827f37c0b5c435e",
   "metadata": {},
   "outputs": [],
   "source": [
    "def count_success_failure_workflow_runs(df: pd.DataFrame):\n",
    "    counts = df['Conclusion'].value_counts()\n",
    "\n",
    "    num_failures = counts.get('failure', 0)\n",
    "    num_successes = counts.get('success', 0)\n",
    "\n",
    "    return num_failures, num_successes"
   ]
  },
  {
   "cell_type": "markdown",
   "id": "5312b0e6d320bf5a",
   "metadata": {},
   "source": [
    "## Factor - Issues' Velocity"
   ]
  },
  {
   "cell_type": "markdown",
   "id": "9f6b1694f8b1633e",
   "metadata": {},
   "source": [
    "### Team Throughput"
   ]
  },
  {
   "cell_type": "code",
   "execution_count": null,
   "id": "812e18f11de419b4",
   "metadata": {},
   "outputs": [],
   "source": [
    "def team_throughput(df: pd.DataFrame, start_date: str, end_date: str):\n",
    "    start_date = pd.to_datetime(start_date)\n",
    "    end_date = pd.to_datetime(end_date)\n",
    "    \n",
    "    df_date_filtered = df[(df['Created at'] >= start_date) & (df['Closed at'] <= end_date + pd.Timedelta(days=1))]\n",
    "    df_created = df[(df['Created at'] >= start_date)]\n",
    "\n",
    "    return len(df_date_filtered[df_date_filtered[\"Closed at\"].notnull()]), len(df_created)"
   ]
  },
  {
   "cell_type": "markdown",
   "id": "9af661fc19d3bc69",
   "metadata": {},
   "source": [
    "## Calculate measures (workflow runs) for each repository\n",
    "\n",
    "Filter the dataset with the set dates in the notebook's beginning."
   ]
  },
  {
   "cell_type": "code",
   "execution_count": null,
   "id": "1e61f6702fdcb977",
   "metadata": {},
   "outputs": [],
   "source": [
    "def create_metrics_df(start_date: str, end_date: str) -> pd.DataFrame:\n",
    "    \n",
    "    start_date = pd.to_datetime(start_date)\n",
    "    end_date = pd.to_datetime(end_date)\n",
    "\n",
    "    m1_list = []\n",
    "    m2_list = []\n",
    "    m3_list = []\n",
    "\n",
    "    repository_list = []\n",
    "    version_list = []\n",
    "\n",
    "    for repo_info in repos_dataframes:\n",
    "        repo_df = repo_info[\"df\"]\n",
    "\n",
    "        repo_df['Updated at'] = pd.to_datetime(repo_df['Updated at'])\n",
    "\n",
    "        # Filter the selected date range\n",
    "        df_date_filtered = repo_df[(repo_df['Updated at'] >= start_date) & (repo_df['Updated at'] <= end_date + pd.Timedelta(days=1))]\n",
    "\n",
    "        try:\n",
    "            m1_list.append(ci_feedback_time(df_date_filtered))\n",
    "        except Exception:\n",
    "            m1_list.append(0)\n",
    "\n",
    "        try:\n",
    "            m2_list.append(count_success_failure_workflow_runs(df_date_filtered))\n",
    "        except Exception:\n",
    "            m2_list.append(0)\n",
    "\n",
    "        repository_list.append(repo_info['name'])\n",
    "\n",
    "    return m1_list, m2_list, repository_list"
   ]
  },
  {
   "cell_type": "code",
   "execution_count": null,
   "id": "610c9517561984ac",
   "metadata": {},
   "outputs": [],
   "source": [
    "m1_list, m2_list, repository_list = create_metrics_df(start_date_workflow_runs, end_date_workflow_runs)"
   ]
  },
  {
   "cell_type": "markdown",
   "id": "61b5ea4570cd9d18",
   "metadata": {},
   "source": [
    "## Plotting Metrics Functions"
   ]
  },
  {
   "cell_type": "markdown",
   "id": "caf5e0b5aa86287a",
   "metadata": {
    "collapsed": false
   },
   "source": [
    "### Generate CI Feedback Time Plots"
   ]
  },
  {
   "cell_type": "code",
   "execution_count": null,
   "id": "41829d5ba8cb7dc3",
   "metadata": {},
   "outputs": [],
   "source": [
    "def ci_feedback_time_plots(df: pd.DataFrame, repo_name: str):\n",
    "    temp = df[['Created at', 'Ci Feedback Time']]\n",
    "    dates = temp.groupby(['Created at']).mean().reset_index()\n",
    "    dates['Created at'] = pd.to_datetime(dates['Created at'])\n",
    "\n",
    "    plt.figure(figsize=(15, 7))\n",
    "    plt.plot(range(len(dates)), dates['Ci Feedback Time'], marker='o', color='b', label='Feedback Time')\n",
    "    plt.xlabel(\"Created at\")\n",
    "    plt.ylabel(\"CI FeedBack Time\")\n",
    "    plt.title(f\"CI FeedBack Time By Creation Date - {repo_name}\")\n",
    "    plt.xticks(range(len(dates)), dates['Created at'].dt.strftime('%Y-%m-%d'), rotation=45)\n",
    "    plt.grid(True)\n",
    "    plt.legend()\n",
    "    plt.tight_layout()\n",
    "    plt.show()"
   ]
  },
  {
   "cell_type": "markdown",
   "id": "ad6d5c1bc4723375",
   "metadata": {},
   "source": [
    "### Generate Count of Successes and Failures Workflows Plots"
   ]
  },
  {
   "cell_type": "code",
   "execution_count": null,
   "id": "bd8a906d967a60d1",
   "metadata": {},
   "outputs": [],
   "source": [
    "def count_sucess_failure_workflow_plot(data: list, repo_name: str):\n",
    "    labels = [\"Success\", \"Failure\"]\n",
    "    sizes = [data[1], data[0]]\n",
    "    plt.figure(figsize=(15, 7))\n",
    "    colors = ['lightgreen', 'crimson']\n",
    "    plt.pie(sizes, labels=labels, autopct='%1.1f%%', colors=colors)\n",
    "    plt.title(f\"Count of Workflows Runs Success and Failures - {repo_name}\")\n",
    "    plt.legend(labels, loc='best')\n",
    "    plt.tight_layout()\n",
    "    plt.show()"
   ]
  },
  {
   "cell_type": "markdown",
   "id": "ff31d2ee038811bb",
   "metadata": {},
   "source": [
    "### Generate Throughput Pie Plot"
   ]
  },
  {
   "cell_type": "code",
   "execution_count": null,
   "id": "5f1c6babc653ea6c",
   "metadata": {},
   "outputs": [],
   "source": [
    "def team_throughput_plot(data: list):\n",
    "    labels = [\"Closed Issues\", \"Not Closed Issues\"]\n",
    "    sizes = [data[0], data[1]-data[0]]\n",
    "    plt.figure(figsize=(15, 7))\n",
    "    colors = ['lightgreen', 'crimson']\n",
    "    plt.pie(sizes, labels=labels, autopct='%1.1f%%', colors=colors)\n",
    "    plt.title(\"Team Throughput Over a Date Range\")\n",
    "    plt.legend(labels, loc='best')\n",
    "    plt.tight_layout()\n",
    "    plt.show()"
   ]
  },
  {
   "cell_type": "markdown",
   "id": "1a1393414f74683c",
   "metadata": {},
   "source": [
    "## Data Visualization\n",
    "\n",
    "In this area you will need to plot the metrics of each repository in the selected date range."
   ]
  },
  {
   "cell_type": "code",
   "execution_count": null,
   "id": "412d4edfd4889aa2",
   "metadata": {},
   "outputs": [],
   "source": [
    "for repo in range(len(repository_list)):\n",
    "    ci_feedback_time_plots(m1_list[repo], repository_list[repo])\n",
    "    count_sucess_failure_workflow_plot(m2_list[repo], repository_list[repo])"
   ]
  },
  {
   "cell_type": "code",
   "execution_count": null,
   "id": "1622c9fa477a2187",
   "metadata": {},
   "outputs": [],
   "source": [
    "team_throughput_plot(team_throughput(issues_df, start_date_issues, end_date_issues))"
   ]
  },
  {
   "cell_type": "code",
   "execution_count": null,
   "id": "4e2006d9a82a3654",
   "metadata": {},
   "outputs": [],
   "source": []
  }
 ],
 "metadata": {
  "kernelspec": {
   "display_name": "Python 3",
   "language": "python",
   "name": "python3"
  },
  "language_info": {
   "codemirror_mode": {
    "name": "ipython",
    "version": 2
   },
   "file_extension": ".py",
   "mimetype": "text/x-python",
   "name": "python",
   "nbconvert_exporter": "python",
   "pygments_lexer": "ipython2",
   "version": "3.11.2"
  }
 },
 "nbformat": 4,
 "nbformat_minor": 5
}
